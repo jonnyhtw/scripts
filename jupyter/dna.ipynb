{
 "cells": [
  {
   "cell_type": "code",
   "execution_count": 52,
   "id": "2b8adf95",
   "metadata": {},
   "outputs": [],
   "source": [
    "from tqdm.notebook import tqdm"
   ]
  },
  {
   "cell_type": "code",
   "execution_count": 11,
   "id": "9e0d7e15",
   "metadata": {},
   "outputs": [],
   "source": [
    "file = open('MIDORI_UNIQ_NUC_GB247_CO1_RDP.fasta')"
   ]
  },
  {
   "cell_type": "code",
   "execution_count": 58,
   "id": "1e57a8d9",
   "metadata": {},
   "outputs": [
    {
     "data": {
      "application/vnd.jupyter.widget-view+json": {
       "model_id": "14794eea6d5245eab5e44137799620cc",
       "version_major": 2,
       "version_minor": 0
      },
      "text/plain": [
       "0it [00:00, ?it/s]"
      ]
     },
     "metadata": {},
     "output_type": "display_data"
    }
   ],
   "source": [
    "with open('MIDORI_UNIQ_NUC_GB247_CO1_RDP.fasta') as f:\n",
    "    new_list = []\n",
    "    concat = False\n",
    "    for line in tqdm(f):\n",
    "        if line.startswith('>'):\n",
    "            new_list.append('>'+line[line.find('Eukaryota'):].replace('\\n',''))\n",
    "        if set(line.strip()) == {'A', 'C', 'G', 'T'}:\n",
    "            if concat:\n",
    "                new_list[-1] += line.strip()\n",
    "            else:\n",
    "                new_list.append(line.strip())\n",
    "            concat = True\n",
    "        else:\n",
    "            concat = False"
   ]
  },
  {
   "cell_type": "code",
   "execution_count": 69,
   "id": "478614aa",
   "metadata": {},
   "outputs": [
    {
     "data": {
      "text/plain": [
       "18352831"
      ]
     },
     "execution_count": 69,
     "metadata": {},
     "output_type": "execute_result"
    }
   ],
   "source": [
    "num_lines = sum(1 for line in open('./MIDORI_UNIQ_NUC_GB247_CO1_RDP.fasta'))\n",
    "num_lines"
   ]
  },
  {
   "cell_type": "code",
   "execution_count": 60,
   "id": "b12f979d",
   "metadata": {},
   "outputs": [
    {
     "data": {
      "text/plain": [
       "['>Eukaryota_2759;phylum_class_order_family_genus_Amoebozoa sp__1892891;class_order_family_genus_Amoebozoa sp__1892891;order_family_genus_Amoebozoa sp__1892891;family_genus_Amoebozoa sp__1892891;genus_Amoebozoa sp__1892891;Amoebozoa sp__1892891',\n",
       " 'CGATTGACATGGCGTTACCAAGATTAAATAACATTAGTTTTTGGTTATTACCTCCTTCACTACTTTTATTAGCCGCTTCAGCTTTAGTTGAAGGTGGGGCTGGTACTGGATGGACTGTTTATCCTCCATTAAGTAGTATTTTAGCTCACTCAGGTCCTTCTGTTGATTTAGCTATTTTTAGTTTACACTTAGCAGGGGCTTCTTCAATTTTAGGTTCAATTAATTTTATTGTTACTATTTTTAATATGAGAGCTATTGGTATGTCTTTACATAGAATGCCATTATTTGTTTGGTCAGTATTAATTACTACCTTTTTATTAGTTGTTTCATTACCTGTATTAGCTGGGGCTATTACTATGTTATTAACTGATAGAAACTTTAATACCACTTTCTTTGATCCTGCTGGAGGTGGAGATCCTGTATTATACCAACATTTATTTTGGTTTTTTGGTCACCCAGAAGTTTATATTTTAATTTTACCTTCTTTTGGTATTATTAGTCATGTAGTTTCAACTTATTCTAACAAACCTGTATTTGGTTATTTAGGTATGGTTTATGCTATGTCTTCAATTGGGTTATTAGGATTTATTGTATGGGCTCACCATATGTATACTGTAGGTTTAGATGTAGATACTAGAGCTTATTTTACTGCAGCAACTATGATTATTGCAGTACCTACTGGAATTAAAATTTTTAGTTGGATTGCTACTATGTGGGGTGGACACTTAAATTTAGAAAAAACTCCAATGTTATTTGCTGTAGGATTTATTTTCTTATTTACTGTTGGTGGATTAACCGGTATTGTATTATCTAATGCTGGTATTGATATTGCTTTACATGATACTTATTATGTTGTAGCTCATTTCCATTACGTTTTTTCAATGGGTGCT']"
      ]
     },
     "execution_count": 60,
     "metadata": {},
     "output_type": "execute_result"
    }
   ],
   "source": [
    "new_list[:2]"
   ]
  },
  {
   "cell_type": "code",
   "execution_count": 61,
   "id": "05d192fb",
   "metadata": {},
   "outputs": [
    {
     "data": {
      "application/vnd.jupyter.widget-view+json": {
       "model_id": "07b2f1b047b1488292212d6ff9a14146",
       "version_major": 2,
       "version_minor": 0
      },
      "text/plain": [
       "  0%|          | 0/3030578 [00:00<?, ?it/s]"
      ]
     },
     "metadata": {},
     "output_type": "display_data"
    }
   ],
   "source": [
    "file = open('new_list.txt','w')\n",
    "for item in tqdm(new_list):\n",
    "    file.write(item+\"\\n\")\n",
    "file.close()"
   ]
  }
 ],
 "metadata": {
  "kernelspec": {
   "display_name": "Python 3 (ipykernel)",
   "language": "python",
   "name": "python3"
  },
  "language_info": {
   "codemirror_mode": {
    "name": "ipython",
    "version": 3
   },
   "file_extension": ".py",
   "mimetype": "text/x-python",
   "name": "python",
   "nbconvert_exporter": "python",
   "pygments_lexer": "ipython3",
   "version": "3.10.4"
  }
 },
 "nbformat": 4,
 "nbformat_minor": 5
}
