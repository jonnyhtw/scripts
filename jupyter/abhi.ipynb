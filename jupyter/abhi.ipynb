{
 "cells": [
  {
   "cell_type": "code",
   "execution_count": 17,
   "id": "2512d9cc",
   "metadata": {},
   "outputs": [
    {
     "name": "stdout",
     "output_type": "stream",
     "text": [
      "time: 498 µs (started: 2022-11-03 05:35:13 +00:00)\n"
     ]
    }
   ],
   "source": [
    "load_ext autotime"
   ]
  },
  {
   "cell_type": "code",
   "execution_count": 1,
   "id": "46360d56",
   "metadata": {},
   "outputs": [],
   "source": [
    "import iris.quickplot as qplt \n",
    "import iris\n",
    "from IPython.core.interactiveshell import InteractiveShell\n",
    "InteractiveShell.ast_node_interactivity = 'all'\n",
    "import warnings\n",
    "from matplotlib.ticker import FormatStrFormatter\n",
    "warnings.filterwarnings(\"ignore\")\n",
    "from scipy.stats import gaussian_kde\n",
    "\n",
    "import cartopy.crs as ccrs\n",
    "import numpy as np\n",
    "import matplotlib.pyplot as plt\n",
    "from matplotlib.ticker import MaxNLocator\n",
    "\n",
    "from tqdm import tqdm"
   ]
  },
  {
   "cell_type": "code",
   "execution_count": 2,
   "id": "a7ef821d",
   "metadata": {},
   "outputs": [
    {
     "name": "stdout",
     "output_type": "stream",
     "text": [
      "/scale_wlg_nobackup/filesets/nobackup/niwa02757/aul20/cylc-run/u-cr269/share/data/History_Data\n"
     ]
    }
   ],
   "source": [
    "cd /nesi/nobackup/niwa02757/aul20/cylc-run/u-cr269/share/data/History_Data"
   ]
  },
  {
   "cell_type": "code",
   "execution_count": 3,
   "id": "a8f5a674",
   "metadata": {},
   "outputs": [],
   "source": [
    "mask = iris.load_cube('/opt/niwa/um_sys/um/ancil/atmos/n96e/orca1/land_sea_mask/etop01/v2/qrparm.mask').\\\n",
    "intersection(latitude = [-60,-40])"
   ]
  },
  {
   "cell_type": "code",
   "execution_count": 4,
   "id": "3a036459",
   "metadata": {},
   "outputs": [
    {
     "data": {
      "text/plain": [
       "<cartopy.mpl.geocollection.GeoQuadMesh at 0x2aab9e33b190>"
      ]
     },
     "execution_count": 4,
     "metadata": {},
     "output_type": "execute_result"
    },
    {
     "data": {
      "image/png": "[encoded data removed]",
      "text/plain": [
       "<Figure size 432x288 with 2 Axes>"
      ]
     },
     "metadata": {
      "needs_background": "light"
     },
     "output_type": "display_data"
    }
   ],
   "source": [
    "qplt.pcolormesh(mask)"
   ]
  },
  {
   "cell_type": "code",
   "execution_count": 5,
   "id": "87692aaf",
   "metadata": {},
   "outputs": [
    {
     "name": "stderr",
     "output_type": "stream",
     "text": [
      "100%|████████████████████████████████████████████████████████████████████████████████████████████████████████████████████████| 5/5 [01:00<00:00, 12.06s/it]\n"
     ]
    }
   ],
   "source": [
    "cubes = []\n",
    "\n",
    "stashs = ['m01s02i300','m01s02i301','m01s02i302','m01s02i303','m01s02i285']\n",
    "\n",
    "for i in tqdm(range(len(stashs))):\n",
    "\n",
    "    cubes.append(iris.load_cube('mule-select-cr269a.pd2005*.pp', iris.AttributeConstraint(STASH=stashs[i])).\\\n",
    "    intersection(latitude = [-60,-40]))\n",
    "\n"
   ]
  },
  {
   "cell_type": "markdown",
   "id": "b5f171c3",
   "metadata": {},
   "source": [
    "## use 3rd element (python indexes from zero) for 550nm, need to check this!"
   ]
  },
  {
   "cell_type": "code",
   "execution_count": 7,
   "id": "d167de7a",
   "metadata": {},
   "outputs": [],
   "source": [
    "aod = sum(cubes)[2]"
   ]
  },
  {
   "cell_type": "code",
   "execution_count": 11,
   "id": "153f8cbc",
   "metadata": {},
   "outputs": [
    {
     "data": {
      "text/plain": [
       "(16, 192)"
      ]
     },
     "execution_count": 11,
     "metadata": {},
     "output_type": "execute_result"
    },
    {
     "data": {
      "text/plain": [
       "(365, 16, 192)"
      ]
     },
     "execution_count": 11,
     "metadata": {},
     "output_type": "execute_result"
    }
   ],
   "source": [
    "mask.data.shape\n",
    "aod.data.shape"
   ]
  },
  {
   "cell_type": "code",
   "execution_count": 14,
   "id": "7d27a72d",
   "metadata": {},
   "outputs": [
    {
     "data": {
      "text/plain": [
       "(365, 16, 192)"
      ]
     },
     "execution_count": 14,
     "metadata": {},
     "output_type": "execute_result"
    }
   ],
   "source": [
    "mask3d = np.broadcast_to(mask.data, aod.data.shape)\n",
    "mask3d.shape"
   ]
  },
  {
   "cell_type": "code",
   "execution_count": 18,
   "id": "419b81a4",
   "metadata": {},
   "outputs": [
    {
     "name": "stdout",
     "output_type": "stream",
     "text": [
      "time: 18.1 ms (started: 2022-11-03 05:35:26 +00:00)\n"
     ]
    }
   ],
   "source": [
    "aod_masked = np.ma.masked_where(mask3d == 1, aod.data)"
   ]
  },
  {
   "cell_type": "code",
   "execution_count": 394,
   "id": "0332abed",
   "metadata": {},
   "outputs": [
    {
     "name": "stderr",
     "output_type": "stream",
     "text": [
      "100%|████████████████████████████████████████████████████████████████████████████████████████████████████████████████████| 365/365 [28:54<00:00,  4.75s/it]\n"
     ]
    }
   ],
   "source": [
    "for i in tqdm(range(len(aod.coord('time').points))):\n",
    "    \n",
    "    array = np.ma.masked_where(mask.data == 1, aod[i].data)\n",
    "    \n",
    "    if i == 0:\n",
    "        aod_masked = array\n",
    "    else:\n",
    "        aod_masked = np.ma.dstack((aod_masked, array))\n",
    "    "
   ]
  },
  {
   "cell_type": "code",
   "execution_count": 46,
   "id": "86dafac0",
   "metadata": {},
   "outputs": [
    {
     "data": {
      "text/plain": [
       "95801.10497237569"
      ]
     },
     "execution_count": 46,
     "metadata": {},
     "output_type": "execute_result"
    },
    {
     "name": "stdout",
     "output_type": "stream",
     "text": [
      "time: 3.29 ms (started: 2022-11-03 05:41:38 +00:00)\n"
     ]
    }
   ],
   "source": [
    "# using a 3d mask speeds up the computation by a factor of... \n",
    "(28*60+54)/18.1e-3\n",
    "# !!!!!!!!!!!!"
   ]
  },
  {
   "cell_type": "code",
   "execution_count": 395,
   "id": "85ae500c",
   "metadata": {},
   "outputs": [
    {
     "data": {
      "text/plain": [
       "(16, 192, 365)"
      ]
     },
     "execution_count": 395,
     "metadata": {},
     "output_type": "execute_result"
    },
    {
     "data": {
      "text/plain": [
       "(365, 16, 192)"
      ]
     },
     "execution_count": 395,
     "metadata": {},
     "output_type": "execute_result"
    }
   ],
   "source": [
    "aod_masked.shape\n",
    "aod_masked = np.moveaxis(aod_masked, 2, 0)\n",
    "aod_masked.shape"
   ]
  },
  {
   "cell_type": "markdown",
   "id": "789103e9",
   "metadata": {},
   "source": [
    "## plot the first element in the masked aod array"
   ]
  },
  {
   "cell_type": "code",
   "execution_count": 16,
   "id": "cb1e048d",
   "metadata": {},
   "outputs": [
    {
     "data": {
      "image/png": "[encoded data removed]",
      "text/plain": [
       "<Figure size 720x720 with 2 Axes>"
      ]
     },
     "metadata": {
      "needs_background": "light"
     },
     "output_type": "display_data"
    }
   ],
   "source": [
    "fig = plt.figure(figsize=[10,10])\n",
    "\n",
    "ax = plt.subplot(1,1,1, projection = ccrs.PlateCarree())\n",
    "\n",
    "plt.pcolormesh(aod[0].coord('longitude').points,\n",
    "               aod[0].coord('latitude').points,\n",
    "               aod_masked[0], transform = ccrs.PlateCarree())\n",
    "\n",
    "plt.colorbar(orientation = 'horizontal')\n",
    "\n",
    "ax.coastlines()\n",
    "\n",
    "plt.show();"
   ]
  },
  {
   "cell_type": "code",
   "execution_count": 21,
   "id": "5060f2a1",
   "metadata": {},
   "outputs": [
    {
     "name": "stdout",
     "output_type": "stream",
     "text": [
      "time: 22 s (started: 2022-11-03 05:37:43 +00:00)\n"
     ]
    }
   ],
   "source": [
    "_1h_cell_method = iris.coords.CellMethod(\n",
    "    method=\"mean\", coords=\"time\", intervals=\"1 hour\"\n",
    ")\n",
    "_1h_cell_method_constraint = iris.Constraint(\n",
    "    cube_func=lambda cube: _1h_cell_method in cube.cell_methods\n",
    ")\n",
    "\n",
    "wind = iris.load_cube('mule-select-cr269a.pd2005*.pp',\n",
    "                      iris.AttributeConstraint(STASH='m01s03i227') &\n",
    "                      _1h_cell_method_constraint).\\\n",
    "                      intersection(latitude = [-60,-40])"
   ]
  },
  {
   "cell_type": "code",
   "execution_count": 22,
   "id": "1f3bacab",
   "metadata": {},
   "outputs": [
    {
     "name": "stdout",
     "output_type": "stream",
     "text": [
      "time: 9.57 ms (started: 2022-11-03 05:38:14 +00:00)\n"
     ]
    }
   ],
   "source": [
    "wind_regridded = wind.regrid(mask, iris.analysis.Linear())"
   ]
  },
  {
   "cell_type": "code",
   "execution_count": 29,
   "id": "6743984f",
   "metadata": {},
   "outputs": [
    {
     "name": "stdout",
     "output_type": "stream",
     "text": [
      "time: 14.9 ms (started: 2022-11-03 05:39:07 +00:00)\n"
     ]
    }
   ],
   "source": [
    "wind_regridded_masked = np.ma.masked_where(mask3d == 1, wind_regridded.data)"
   ]
  },
  {
   "cell_type": "code",
   "execution_count": 412,
   "id": "5f73cf2e",
   "metadata": {},
   "outputs": [
    {
     "name": "stderr",
     "output_type": "stream",
     "text": [
      "100%|████████████████████████████████████████████████████████████████████████████████████████████████████████████████████| 365/365 [00:31<00:00, 11.51it/s]\n"
     ]
    }
   ],
   "source": [
    "for i in tqdm(range(len(wind_regridded.coord('time').points))):\n",
    "    \n",
    "    array = np.ma.masked_where(mask.data == 1, wind_regridded[i].data)\n",
    "    \n",
    "    if i == 0:\n",
    "        wind_regridded_masked = array\n",
    "    else:\n",
    "        wind_regridded_masked = np.ma.dstack((wind_regridded_masked, array))\n",
    "    "
   ]
  },
  {
   "cell_type": "code",
   "execution_count": 30,
   "id": "b45b954b",
   "metadata": {},
   "outputs": [
    {
     "data": {
      "text/plain": [
       "(365, 16, 192)"
      ]
     },
     "execution_count": 30,
     "metadata": {},
     "output_type": "execute_result"
    },
    {
     "name": "stdout",
     "output_type": "stream",
     "text": [
      "time: 3.39 ms (started: 2022-11-03 05:39:11 +00:00)\n"
     ]
    }
   ],
   "source": [
    "wind_regridded_masked.shape\n",
    "# wind_regridded_masked = np.moveaxis(wind_regridded_masked, 2, 0)\n",
    "# wind_regridded_masked.shape"
   ]
  },
  {
   "cell_type": "markdown",
   "id": "daf9886e",
   "metadata": {},
   "source": [
    "## plot the first element in the masked wind array"
   ]
  },
  {
   "cell_type": "code",
   "execution_count": 31,
   "id": "f4f555c2",
   "metadata": {},
   "outputs": [
    {
     "data": {
      "image/png": "[encoded data removed]",
      "text/plain": [
       "<Figure size 720x720 with 2 Axes>"
      ]
     },
     "metadata": {
      "needs_background": "light"
     },
     "output_type": "display_data"
    },
    {
     "name": "stdout",
     "output_type": "stream",
     "text": [
      "time: 145 ms (started: 2022-11-03 05:39:16 +00:00)\n"
     ]
    }
   ],
   "source": [
    "fig = plt.figure(figsize=[10,10])\n",
    "\n",
    "ax = plt.subplot(1,1,1, projection = ccrs.PlateCarree())\n",
    "\n",
    "plt.pcolormesh(wind_regridded[0].coord('longitude').points,\n",
    "               wind_regridded[0].coord('latitude').points,\n",
    "               wind_regridded_masked[0], transform = ccrs.PlateCarree())\n",
    "\n",
    "plt.colorbar(orientation = 'horizontal')\n",
    "\n",
    "ax.coastlines()\n",
    "\n",
    "plt.show();"
   ]
  },
  {
   "cell_type": "markdown",
   "id": "fbeba9a2",
   "metadata": {},
   "source": [
    "## make sure the arrays are the same shape"
   ]
  },
  {
   "cell_type": "code",
   "execution_count": 32,
   "id": "839316b3",
   "metadata": {},
   "outputs": [
    {
     "data": {
      "text/plain": [
       "True"
      ]
     },
     "execution_count": 32,
     "metadata": {},
     "output_type": "execute_result"
    },
    {
     "name": "stdout",
     "output_type": "stream",
     "text": [
      "time: 2.69 ms (started: 2022-11-03 05:39:19 +00:00)\n"
     ]
    }
   ],
   "source": [
    "aod_masked[0].shape == wind_regridded_masked[0].shape"
   ]
  },
  {
   "cell_type": "markdown",
   "id": "28f7f1c4",
   "metadata": {},
   "source": [
    "## scatter plot of all data"
   ]
  },
  {
   "cell_type": "code",
   "execution_count": 33,
   "id": "25e17d16",
   "metadata": {},
   "outputs": [
    {
     "data": {
      "image/png": "[encoded data removed]",
      "text/plain": [
       "<Figure size 432x288 with 1 Axes>"
      ]
     },
     "metadata": {
      "needs_background": "light"
     },
     "output_type": "display_data"
    },
    {
     "name": "stdout",
     "output_type": "stream",
     "text": [
      "time: 1.88 s (started: 2022-11-03 05:39:22 +00:00)\n"
     ]
    }
   ],
   "source": [
    "plt.scatter(wind_regridded_masked, aod_masked)\n",
    "\n",
    "plt.yscale('log')\n",
    "# plt.ylim([1e-3,2e0])\n",
    "plt.xlabel(r'$\\mathrm{Wind speed [m \\cdot s^{-1}]}$')\n",
    "plt.ylabel('AOD')\n",
    "\n",
    "plt.show();"
   ]
  },
  {
   "cell_type": "markdown",
   "id": "7fdfc38f",
   "metadata": {},
   "source": [
    "## now do integer windspeed bins"
   ]
  },
  {
   "cell_type": "code",
   "execution_count": 34,
   "id": "066346dd",
   "metadata": {},
   "outputs": [
    {
     "name": "stderr",
     "output_type": "stream",
     "text": [
      "100%|██████████████████████████████████████████████████████████████████████████████████████████████████████████████████████| 20/20 [00:00<00:00, 68.52it/s]"
     ]
    },
    {
     "name": "stdout",
     "output_type": "stream",
     "text": [
      "time: 297 ms (started: 2022-11-03 05:39:26 +00:00)\n"
     ]
    },
    {
     "name": "stderr",
     "output_type": "stream",
     "text": [
      "\n"
     ]
    }
   ],
   "source": [
    "means = []\n",
    "stds = []\n",
    "\n",
    "bins = np.arange(1,21)\n",
    "\n",
    "for i in tqdm(bins):\n",
    "    means.append(aod_masked[np.logical_and(wind_regridded_masked > i, wind_regridded_masked < i+1)].mean())\n",
    "    stds.append(aod_masked[np.logical_and(wind_regridded_masked > i, wind_regridded_masked < i+1)].std())\n",
    "    \n",
    "means = np.array(means)\n",
    "stds = np.array(stds)"
   ]
  },
  {
   "cell_type": "code",
   "execution_count": 45,
   "id": "8f6c78d2",
   "metadata": {},
   "outputs": [
    {
     "data": {
      "image/png": "[encoded data removed]",
      "text/plain": [
       "<Figure size 720x360 with 1 Axes>"
      ]
     },
     "metadata": {
      "needs_background": "light"
     },
     "output_type": "display_data"
    },
    {
     "name": "stdout",
     "output_type": "stream",
     "text": [
      "time: 245 ms (started: 2022-11-03 05:40:59 +00:00)\n"
     ]
    }
   ],
   "source": [
    "fig = plt.figure(figsize=[10,5])\n",
    "\n",
    "ax = plt.subplot(1,1,1)\n",
    "\n",
    "plt.errorbar(bins,means, yerr = stds, capsize = 5, marker = 'o', fillstyle = 'none', markersize = 10)\n",
    "\n",
    "plt.fill_between(bins, means - stds, means + stds, alpha = 0.1)\n",
    "\n",
    "plt.yscale('log')\n",
    "plt.ylim([1e-2, 1e0])\n",
    "plt.grid()\n",
    "plt.xlabel(r'$\\mathrm{Wind speed\\ [m \\cdot s^{-1}]}$')\n",
    "plt.ylabel('AOD')\n",
    "\n",
    "ax.xaxis.set_major_locator(MaxNLocator(integer=True))\n",
    "\n",
    "plt.show();"
   ]
  },
  {
   "cell_type": "code",
   "execution_count": null,
   "id": "8923d976",
   "metadata": {},
   "outputs": [],
   "source": []
  },
  {
   "cell_type": "code",
   "execution_count": null,
   "id": "da8392d7",
   "metadata": {},
   "outputs": [],
   "source": []
  },
  {
   "cell_type": "code",
   "execution_count": null,
   "id": "f28ad414",
   "metadata": {},
   "outputs": [],
   "source": []
  },
  {
   "cell_type": "code",
   "execution_count": null,
   "id": "7ce500e4",
   "metadata": {},
   "outputs": [],
   "source": []
  }
 ],
 "metadata": {
  "kernelspec": {
   "display_name": "Python 3 (ipykernel)",
   "language": "python",
   "name": "python3"
  },
  "language_info": {
   "codemirror_mode": {
    "name": "ipython",
    "version": 3
   },
   "file_extension": ".py",
   "mimetype": "text/x-python",
   "name": "python",
   "nbconvert_exporter": "python",
   "pygments_lexer": "ipython3",
   "version": "3.10.4"
  }
 },
 "nbformat": 4,
 "nbformat_minor": 5
}
