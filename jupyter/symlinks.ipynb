{
 "cells": [
  {
   "cell_type": "code",
   "execution_count": 87,
   "id": "be412843",
   "metadata": {},
   "outputs": [],
   "source": [
    "import os\n",
    "import subprocess\n",
    "from IPython.core.interactiveshell import InteractiveShell\n",
    "InteractiveShell.ast_node_interactivity = \"all\""
   ]
  },
  {
   "cell_type": "code",
   "execution_count": 77,
   "id": "16c35b97",
   "metadata": {},
   "outputs": [
    {
     "name": "stdout",
     "output_type": "stream",
     "text": [
      "/scale_wlg_persistent/filesets/project/niwa00013/tids/OCEAN\n"
     ]
    }
   ],
   "source": [
    "cd /nesi/project/niwa00013/tids/OCEAN/"
   ]
  },
  {
   "cell_type": "code",
   "execution_count": 78,
   "id": "16e046aa",
   "metadata": {},
   "outputs": [],
   "source": [
    "my_dict = {}\n",
    "\n",
    "names = ['symlinks','files']\n",
    "\n",
    "for name in names:\n",
    "\n",
    "    my_dict[name] = []\n",
    "\n",
    "    with open('/home/williamsjh/scripts/'+name) as file:\n",
    "        for item in file:\n",
    "            my_dict[name].append(item.splitlines()[0])"
   ]
  },
  {
   "cell_type": "code",
   "execution_count": 79,
   "id": "11be68dc",
   "metadata": {},
   "outputs": [
    {
     "data": {
      "text/plain": [
       "647"
      ]
     },
     "execution_count": 79,
     "metadata": {},
     "output_type": "execute_result"
    },
    {
     "data": {
      "text/plain": [
       "'./hadgem3/ancil/ocean/ORCA025/bathy_level_drakkar.nc'"
      ]
     },
     "execution_count": 79,
     "metadata": {},
     "output_type": "execute_result"
    }
   ],
   "source": [
    "len(my_dict['symlinks'])\n",
    "my_dict['symlinks'][0]"
   ]
  },
  {
   "cell_type": "code",
   "execution_count": 80,
   "id": "ec30f29c",
   "metadata": {},
   "outputs": [
    {
     "data": {
      "text/plain": [
       "647"
      ]
     },
     "execution_count": 80,
     "metadata": {},
     "output_type": "execute_result"
    },
    {
     "data": {
      "text/plain": [
       "'ORCA025_combined_etopo_gebco_coast_corrected_july06_G70.nc'"
      ]
     },
     "execution_count": 80,
     "metadata": {},
     "output_type": "execute_result"
    }
   ],
   "source": [
    "len(my_dict['files'])\n",
    "my_dict['files'][0]"
   ]
  },
  {
   "cell_type": "code",
   "execution_count": 72,
   "id": "6aa14f68",
   "metadata": {},
   "outputs": [
    {
     "data": {
      "text/plain": [
       "'./hadgem3/ancil/ocean/ORCA025/bathy_level_drakkar.nc'"
      ]
     },
     "execution_count": 72,
     "metadata": {},
     "output_type": "execute_result"
    },
    {
     "data": {
      "text/plain": [
       "'./hadgem3/ancil/ocean/ORCA025'"
      ]
     },
     "execution_count": 72,
     "metadata": {},
     "output_type": "execute_result"
    },
    {
     "data": {
      "text/plain": [
       "'bathy_level_drakkar.nc'"
      ]
     },
     "execution_count": 72,
     "metadata": {},
     "output_type": "execute_result"
    }
   ],
   "source": [
    "my_dict['targets'][0]\n",
    "os.path.dirname(my_dict['targets'][0])\n",
    "os.path.basename(my_dict['targets'][0])"
   ]
  },
  {
   "cell_type": "code",
   "execution_count": 73,
   "id": "04fad338",
   "metadata": {},
   "outputs": [
    {
     "data": {
      "text/plain": [
       "'/scale_wlg_persistent/filesets/project/niwa00013/tids/OCEAN'"
      ]
     },
     "execution_count": 73,
     "metadata": {},
     "output_type": "execute_result"
    }
   ],
   "source": [
    "os.getcwd()"
   ]
  },
  {
   "cell_type": "code",
   "execution_count": 92,
   "id": "13ccd201",
   "metadata": {},
   "outputs": [
    {
     "name": "stdout",
     "output_type": "stream",
     "text": [
      "ln: failed to create symbolic link ‘/scale_wlg_persistent/filesets/project/niwa00013/tids/OCEAN/./hadgem3/ancil/ocean/eORCA1v2.2x/ahmcoef.nc’: File exists\n",
      "ln: failed to create symbolic link ‘/scale_wlg_persistent/filesets/project/niwa00013/tids/OCEAN/./hadgem3/ancil/ocean/eORCA1v2.2x/bfr_coef01.nc’: File exists\n",
      "ln: failed to create symbolic link ‘/scale_wlg_persistent/filesets/project/niwa00013/tids/OCEAN/./hadgem3/ancil/ocean/eORCA1v2.2x/eORCA_R1_K1_v1.0.nc’: File exists\n",
      "ln: failed to create symbolic link ‘/scale_wlg_persistent/filesets/project/niwa00013/tids/OCEAN/./hadgem3/ancil/ocean/eORCA1v2.2x/eORCA_R1_M2_v1.0.nc’: File exists\n",
      "ln: failed to create symbolic link ‘/scale_wlg_persistent/filesets/project/niwa00013/tids/OCEAN/./hadgem3/ancil/ocean/eORCA1v2.2x/eORCA_R1_maskITF_v1.0.nc’: File exists\n",
      "ln: failed to create symbolic link ‘/scale_wlg_persistent/filesets/project/niwa00013/tids/OCEAN/./hadgem3/ancil/ocean/eORCA1v2.2x/eddy_viscosity_3D_eORCA1.nc’: File exists\n",
      "ln: failed to create symbolic link ‘/scale_wlg_persistent/filesets/project/niwa00013/tids/OCEAN/./hadgem3/forcing/ocean/DFS4.1/2001/2001_1m_DFS4.1_precip.nc’: File exists\n",
      "ln: failed to create symbolic link ‘/scale_wlg_persistent/filesets/project/niwa00013/tids/OCEAN/./hadgem3/grids/ocean/eORCA1v2.2x/eORCA1_coordinates_nc4.nc_from_MR’: File exists\n",
      "ln: failed to create symbolic link ‘/scale_wlg_persistent/filesets/project/niwa00013/tids/OCEAN/./hadgem3/grids/remapping/N96eg_eORCA1_GO6.1v2.2x/areas.nc’: File exists\n",
      "ln: failed to create symbolic link ‘/scale_wlg_persistent/filesets/project/niwa00013/tids/OCEAN/./hadgem3/grids/remapping/N96eg_eORCA1_GO6.1v2.2x/grids.nc’: File exists\n",
      "ln: failed to create symbolic link ‘/scale_wlg_persistent/filesets/project/niwa00013/tids/OCEAN/./hadgem3/grids/remapping/N96eg_eORCA1_GO6.1v2.2x/rmp_atm3_to_tor1_CONSERV_DESTAREA_2nd.nc’: File exists\n",
      "ln: failed to create symbolic link ‘/scale_wlg_persistent/filesets/project/niwa00013/tids/OCEAN/./hadgem3/grids/remapping/N96eg_eORCA1_GO6.1v2.2x/rmp_tor1_to_atm3_CONSERV_FRACAREA_2nd.nc’: File exists\n",
      "ln: failed to create symbolic link ‘/scale_wlg_persistent/filesets/project/niwa00013/tids/OCEAN/./hadgem3/grids/seaice/eORCA1v2.2x/CICE_grid_eorca1_v2.2x_razed.nc’: File exists\n"
     ]
    }
   ],
   "source": [
    "for i in range(len(my_dict['files'])):\n",
    "    \n",
    "    my_str = 'ln -s ' + os.getcwd() + '/' + os.path.dirname(my_dict['symlinks'][i]) + '/'+ my_dict['files'][i] +\\\n",
    "             ' ' + os.getcwd() + '/' + my_dict['symlinks'][i]\n",
    "    \n",
    "    ! {my_str}"
   ]
  },
  {
   "cell_type": "code",
   "execution_count": 89,
   "id": "c00e9c8a",
   "metadata": {},
   "outputs": [
    {
     "data": {
      "text/plain": [
       "'ln -s /scale_wlg_persistent/filesets/project/niwa00013/tids/OCEAN/./nemo/ocean_ancil_versions/GO8 /scale_wlg_persistent/filesets/project/niwa00013/tids/OCEAN/./nemo/ocean_ancil_versions/GOSI9'"
      ]
     },
     "execution_count": 89,
     "metadata": {},
     "output_type": "execute_result"
    }
   ],
   "source": [
    "my_str"
   ]
  },
  {
   "cell_type": "code",
   "execution_count": 91,
   "id": "023a8e92",
   "metadata": {},
   "outputs": [],
   "source": [
    "! {my_str}"
   ]
  },
  {
   "cell_type": "code",
   "execution_count": null,
   "id": "cd7781ff",
   "metadata": {},
   "outputs": [],
   "source": []
  },
  {
   "cell_type": "code",
   "execution_count": null,
   "id": "1d86078e",
   "metadata": {},
   "outputs": [],
   "source": []
  },
  {
   "cell_type": "code",
   "execution_count": null,
   "id": "634b922e",
   "metadata": {},
   "outputs": [],
   "source": []
  }
 ],
 "metadata": {
  "kernelspec": {
   "display_name": "Python 3 (ipykernel)",
   "language": "python",
   "name": "python3"
  },
  "language_info": {
   "codemirror_mode": {
    "name": "ipython",
    "version": 3
   },
   "file_extension": ".py",
   "mimetype": "text/x-python",
   "name": "python",
   "nbconvert_exporter": "python",
   "pygments_lexer": "ipython3",
   "version": "3.10.4"
  }
 },
 "nbformat": 4,
 "nbformat_minor": 5
}
