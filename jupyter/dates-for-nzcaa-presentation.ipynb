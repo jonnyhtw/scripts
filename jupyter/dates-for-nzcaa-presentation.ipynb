{
 "cells": [
  {
   "cell_type": "code",
   "execution_count": 2,
   "id": "674efbf8-4da1-4dd8-adac-e5f95241b2e4",
   "metadata": {},
   "outputs": [],
   "source": [
    "import matplotlib.pyplot as plt\n",
    "import numpy as np\n",
    "import matplotlib.transforms as transforms\n"
   ]
  },
  {
   "cell_type": "code",
   "execution_count": 43,
   "id": "52ef4b21-cef9-4c0f-9652-05cf534ab5a5",
   "metadata": {},
   "outputs": [
    {
     "data": {
      "image/png": "[encoded data removed]",
      "text/plain": [
       "<Figure size 1000x200 with 1 Axes>"
      ]
     },
     "metadata": {},
     "output_type": "display_data"
    }
   ],
   "source": [
    "fig, ax = plt.subplots(nrows=1, ncols=1)\n",
    "\n",
    "fig.set_figwidth(10)\n",
    "fig.set_figheight(2)\n",
    "\n",
    "\n",
    "years = np.arange(1985, 2065)\n",
    "\n",
    "ax.plot(years, np.ones(len(years)),'ko', fillstyle='none')\n",
    "\n",
    "\n",
    "ax.set_yticks([])\n",
    "transform = transforms.blended_transform_factory(ax.transData, ax.transAxes)\n",
    "ax.text(2000,0.75,'Historical', transform=transform, ha = 'center')\n",
    "ax.text(2050,0.75,'Future', transform=transform, ha = 'center')\n",
    "ax.fill_betweenx([ax.get_ylim()[0],ax.get_ylim()[1]],1985,2014,color='b', alpha = 0.1)\n",
    "ax.fill_betweenx([ax.get_ylim()[0],ax.get_ylim()[1]],2035,2064,color='r', alpha = 0.1)\n",
    "\n",
    "\n",
    "\n",
    "\n",
    "plt.show();"
   ]
  },
  {
   "cell_type": "code",
   "execution_count": null,
   "id": "b128b912-3093-4bf4-ba15-5e34d638c8f8",
   "metadata": {},
   "outputs": [],
   "source": []
  },
  {
   "cell_type": "code",
   "execution_count": null,
   "id": "a9f227c3-1226-4449-a080-8f597bc34981",
   "metadata": {},
   "outputs": [],
   "source": []
  }
 ],
 "metadata": {
  "kernelspec": {
   "display_name": "Python 3 (ipykernel)",
   "language": "python",
   "name": "python3"
  },
  "language_info": {
   "codemirror_mode": {
    "name": "ipython",
    "version": 3
   },
   "file_extension": ".py",
   "mimetype": "text/x-python",
   "name": "python",
   "nbconvert_exporter": "python",
   "pygments_lexer": "ipython3",
   "version": "3.12.3"
  }
 },
 "nbformat": 4,
 "nbformat_minor": 5
}
