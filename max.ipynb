{
 "cells": [
  {
   "cell_type": "code",
   "execution_count": 15,
   "id": "e4da2c12",
   "metadata": {},
   "outputs": [],
   "source": [
    "import numpy as np\n",
    "import matplotlib.pyplot as plt\n",
    "import iris\n",
    "import cartopy.crs as ccrs"
   ]
  },
  {
   "cell_type": "code",
   "execution_count": 20,
   "id": "934f05e5",
   "metadata": {},
   "outputs": [
    {
     "name": "stderr",
     "output_type": "stream",
     "text": [
      "/Users/Jonny/miniconda3/lib/python3.9/site-packages/iris/fileformats/cf.py:326: UserWarning: Missing CF-netCDF auxiliary coordinate variable 'height', referenced by netCDF variable 'tas'\n",
      "  warnings.warn(message % (name, nc_var_name))\n",
      "/Users/Jonny/miniconda3/lib/python3.9/site-packages/iris/fileformats/cf.py:688: UserWarning: Missing CF-netCDF label variable 'height', referenced by netCDF variable 'tas'\n",
      "  warnings.warn(message % (name, nc_var_name))\n",
      "/Users/Jonny/miniconda3/lib/python3.9/site-packages/iris/fileformats/_nc_load_rules/helpers.py:659: UserWarning: Ignoring netCDF variable 'msk_rgn' invalid units 'bool'\n",
      "  warnings.warn(msg)\n"
     ]
    }
   ],
   "source": [
    "\n",
    "wind = iris.load_cube('/Users/Jonny/Desktop/sresa1b_ncar_ccsm3-example.nc', 'eastward_wind')"
   ]
  },
  {
   "cell_type": "code",
   "execution_count": 21,
   "id": "ccb92415",
   "metadata": {},
   "outputs": [
    {
     "data": {
      "text/plain": [
       "(1, 17, 128, 256)"
      ]
     },
     "execution_count": 21,
     "metadata": {},
     "output_type": "execute_result"
    }
   ],
   "source": [
    "wind.data.shape"
   ]
  },
  {
   "cell_type": "code",
   "execution_count": null,
   "id": "2da551d0",
   "metadata": {},
   "outputs": [
    {
     "name": "stderr",
     "output_type": "stream",
     "text": [
      "Exception ignored in: <function BaseGeometry.__del__ at 0x13c479940>\n",
      "Traceback (most recent call last):\n",
      "  File \"/Users/Jonny/miniconda3/lib/python3.9/site-packages/shapely/geometry/base.py\", line 209, in __del__\n",
      "    self._empty(val=None)\n",
      "KeyboardInterrupt: \n"
     ]
    }
   ],
   "source": [
    "ax = plt.subplot(1,1,1, projection=ccrs.PlateCarree(cen))\n",
    "\n",
    "plt.pcolormesh(wind[0][0].data, transform = ccrs.PlateCarree())\n",
    "plt.colorbar()\n",
    "contour = plt.contour(Z, levels=0, colors=\"k\")\n",
    "\n",
    "plt.clabel(contour)\n",
    "\n",
    "plt.show();"
   ]
  },
  {
   "cell_type": "code",
   "execution_count": null,
   "id": "523ceabf",
   "metadata": {},
   "outputs": [],
   "source": []
  },
  {
   "cell_type": "code",
   "execution_count": null,
   "id": "53b3aa5f",
   "metadata": {},
   "outputs": [],
   "source": []
  },
  {
   "cell_type": "code",
   "execution_count": null,
   "id": "785390c6",
   "metadata": {},
   "outputs": [],
   "source": []
  },
  {
   "cell_type": "code",
   "execution_count": null,
   "id": "31eb14d1",
   "metadata": {},
   "outputs": [],
   "source": []
  },
  {
   "cell_type": "code",
   "execution_count": null,
   "id": "a12f9997",
   "metadata": {},
   "outputs": [],
   "source": []
  },
  {
   "cell_type": "code",
   "execution_count": null,
   "id": "a5ac5e55",
   "metadata": {},
   "outputs": [],
   "source": []
  },
  {
   "cell_type": "code",
   "execution_count": null,
   "id": "65dace5e",
   "metadata": {},
   "outputs": [],
   "source": []
  },
  {
   "cell_type": "code",
   "execution_count": null,
   "id": "27340d11",
   "metadata": {},
   "outputs": [],
   "source": []
  },
  {
   "cell_type": "code",
   "execution_count": null,
   "id": "9b03ab51",
   "metadata": {},
   "outputs": [],
   "source": []
  }
 ],
 "metadata": {
  "kernelspec": {
   "display_name": "Python 3 (ipykernel)",
   "language": "python",
   "name": "python3"
  },
  "language_info": {
   "codemirror_mode": {
    "name": "ipython",
    "version": 3
   },
   "file_extension": ".py",
   "mimetype": "text/x-python",
   "name": "python",
   "nbconvert_exporter": "python",
   "pygments_lexer": "ipython3",
   "version": "3.9.15"
  }
 },
 "nbformat": 4,
 "nbformat_minor": 5
}
